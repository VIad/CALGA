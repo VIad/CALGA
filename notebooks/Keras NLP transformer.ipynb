{
 "cells": [
  {
   "cell_type": "markdown",
   "id": "f8cc1d82",
   "metadata": {},
   "source": [
    "## Lets do it again (but properly)"
   ]
  },
  {
   "cell_type": "code",
   "execution_count": 53,
   "id": "901192fe",
   "metadata": {},
   "outputs": [
    {
     "data": {
      "text/plain": [
       "<module 'keras_nlp' from 'C:\\\\Users\\\\Vladko\\\\anaconda3\\\\lib\\\\site-packages\\\\keras_nlp\\\\__init__.py'>"
      ]
     },
     "execution_count": 53,
     "metadata": {},
     "output_type": "execute_result"
    }
   ],
   "source": [
    "import os\n",
    "import tensorflow as tf\n",
    "from tensorflow import keras\n",
    "import keras_nlp\n",
    "import numpy as np\n",
    "from keras.preprocessing.text import Tokenizer\n",
    "\n",
    "keras_nlp"
   ]
  },
  {
   "cell_type": "code",
   "execution_count": 54,
   "id": "0f78fe0c",
   "metadata": {},
   "outputs": [],
   "source": [
    "# Data\n",
    "BATCH_SIZE = 256\n",
    "SEQ_LEN = 256\n",
    "\n",
    "# Model\n",
    "EMBED_DIM = 256\n",
    "FEED_FORWARD_DIM = 2048\n",
    "NUM_HEADS = 4\n",
    "MAX_VOCAB_SIZE = 5000  # Limits parameters in model.\n",
    "\n",
    "# Training\n",
    "EPOCHS = 1"
   ]
  },
  {
   "cell_type": "code",
   "execution_count": 55,
   "id": "afeb6856",
   "metadata": {},
   "outputs": [],
   "source": [
    "raw_train_ds = (\n",
    "    tf.data.TextLineDataset(\"data/v3/coupled_ngrams.txt\")\n",
    "    .batch(BATCH_SIZE)\n",
    "    .shuffle(buffer_size=256)\n",
    ")\n",
    "raw_val_ds = (\n",
    "    tf.data.TextLineDataset(\"data/validation/test_ngrams.txt\")\n",
    "    .batch(BATCH_SIZE)\n",
    ")"
   ]
  },
  {
   "cell_type": "code",
   "execution_count": 56,
   "id": "2117e8d0",
   "metadata": {},
   "outputs": [],
   "source": [
    "vocab = keras_nlp.tokenizers.compute_word_piece_vocabulary(\n",
    "    raw_train_ds,\n",
    "    vocabulary_size=MAX_VOCAB_SIZE,\n",
    "    lowercase=True,\n",
    "    reserved_tokens=[\"[PAD]\", \"[UNK]\", \"[BOS]\", \"nl\", \"$\"],\n",
    ")"
   ]
  },
  {
   "cell_type": "code",
   "execution_count": 57,
   "id": "137b4433",
   "metadata": {},
   "outputs": [
    {
     "data": {
      "text/plain": [
       "4757"
      ]
     },
     "execution_count": 57,
     "metadata": {},
     "output_type": "execute_result"
    }
   ],
   "source": [
    "len(vocab)"
   ]
  },
  {
   "cell_type": "code",
   "execution_count": 58,
   "id": "a87fa593",
   "metadata": {},
   "outputs": [
    {
     "data": {
      "text/plain": [
       "4765"
      ]
     },
     "execution_count": 58,
     "metadata": {},
     "output_type": "execute_result"
    }
   ],
   "source": [
    "def deserialize_vocab():\n",
    "    filename = \"data/v3/data/V4-dict(v1).txt\"\n",
    "    vocabulary = []\n",
    "    with open(filename, encoding=\"utf8\") as f:\n",
    "        vocab_load = f.readlines()\n",
    "        for w in vocab_load:\n",
    "            vocabulary.append(w.strip())\n",
    "    return vocabulary\n",
    "\n",
    "vocab = deserialize_vocab()\n",
    "len(vocab), vocab[15]\n",
    "\n",
    "tokenizer = keras_nlp.tokenizers.WordPieceTokenizer(\n",
    "    vocabulary=vocab,\n",
    "    sequence_length=SEQ_LEN,\n",
    "    lowercase=True,\n",
    ")\n",
    "len(vocab)"
   ]
  },
  {
   "cell_type": "code",
   "execution_count": 59,
   "id": "f714abfc",
   "metadata": {},
   "outputs": [],
   "source": [
    "start_packer = keras_nlp.layers.StartEndPacker(\n",
    "    sequence_length=SEQ_LEN,\n",
    "    start_value=tokenizer.token_to_id(\"[BOS]\"),\n",
    ")    "
   ]
  },
  {
   "cell_type": "code",
   "execution_count": 60,
   "id": "7559c33e",
   "metadata": {},
   "outputs": [],
   "source": [
    "# packer adds a start token\n",
    "\n",
    "def transform_tensor(tensor):\n",
    "    # Flatten the tensor to make it 1-D\n",
    "    tensor_flat = tf.reshape(tensor, [tf.shape(tensor)[0], -1])\n",
    "\n",
    "    def process_batch(batch):\n",
    "        # Find the indices of the non-zero elements in reverse order for each batch\n",
    "        non_zero_indices = tf.where(batch != 0)[:, 0]\n",
    "\n",
    "        if tf.shape(non_zero_indices)[0] == 0:\n",
    "            # If all elements are zeros in this batch, no change is needed\n",
    "            return batch\n",
    "\n",
    "        # Find the index of the last non-zero element for each batch\n",
    "        last_non_zero_index = tf.reduce_max(non_zero_indices)\n",
    "\n",
    "        # Replace the last non-zero element with zero for each batch\n",
    "        modified_batch_flat = tf.tensor_scatter_nd_update(batch, [[last_non_zero_index]], [0])\n",
    "\n",
    "        return modified_batch_flat\n",
    "\n",
    "    # Apply the function to each batch in the input tensor\n",
    "    modified_tensor_flat = tf.map_fn(process_batch, tensor_flat, dtype=tf.int32)\n",
    "\n",
    "    # Reshape the modified tensor back to its original shape\n",
    "    modified_tensor = tf.reshape(modified_tensor_flat, tf.shape(tensor))\n",
    "\n",
    "    return modified_tensor\n",
    "\n",
    "def preprocess(inputs):\n",
    "    outputs = start_packer(tokenizer(inputs))\n",
    "    features = start_packer(tokenizer(inputs))\n",
    "    \n",
    "    X_train = transform_tensor(outputs)\n",
    "    Y_train = features\n",
    "    return X_train, Y_train\n",
    "\n",
    "\n",
    "# Tokenize and split into train and label sequences.\n",
    "train_ds = raw_train_ds.map(preprocess, num_parallel_calls=tf.data.AUTOTUNE).prefetch(\n",
    "    tf.data.AUTOTUNE\n",
    ")\n",
    "val_ds = raw_val_ds.map(preprocess, num_parallel_calls=tf.data.AUTOTUNE).prefetch(\n",
    "    tf.data.AUTOTUNE\n",
    ")"
   ]
  },
  {
   "cell_type": "code",
   "execution_count": 61,
   "id": "682ead77",
   "metadata": {},
   "outputs": [],
   "source": [
    "def transformer_block(heads, ffdim, dropout_rate, name):\n",
    "    return keras_nlp.layers.TransformerDecoder(\n",
    "    num_heads=heads,\n",
    "    intermediate_dim=ffdim,\n",
    "    dropout=dropout_rate,\n",
    "    name=name,\n",
    "    activation='gelu' # Use Gaussian Linear Unit (as in GPT-2)\n",
    "  )\n",
    "\n",
    "inputs = keras.layers.Input(shape=(None,), dtype=tf.int32)\n",
    "# Embedding.\n",
    "embedding_layer = keras_nlp.layers.TokenAndPositionEmbedding(\n",
    "    vocabulary_size=MAX_VOCAB_SIZE,\n",
    "    sequence_length=SEQ_LEN,\n",
    "    embedding_dim=EMBED_DIM,\n",
    "    mask_zero=True,\n",
    "    name=\"emb\"\n",
    ")\n",
    "x = embedding_layer(inputs)\n",
    "# Transformer decoders.\n",
    "x = transformer_block(NUM_HEADS, FEED_FORWARD_DIM, 0.6, \"transformer-1\")(x)  # Giving one argument only skips cross-attention.\n",
    "x = transformer_block(NUM_HEADS, FEED_FORWARD_DIM, 0.6, \"transformer-2\")(x)  # Giving one argument only skips cross-attention.\n",
    "x = transformer_block(NUM_HEADS, FEED_FORWARD_DIM, 0.7, \"transformer-3\")(x)  # Giving one argument only skips cross-attention.\n",
    "\n",
    "# Output.\n",
    "outputs = keras.layers.Dense(min(MAX_VOCAB_SIZE, len(vocab)), name=\"dense\")(x)\n",
    "\n",
    "model = keras.Model(inputs=inputs, outputs=outputs)\n",
    "loss_fn = tf.keras.losses.SparseCategoricalCrossentropy(from_logits=True)\n",
    "perplexity = keras_nlp.metrics.Perplexity(from_logits=True, mask_token_id=0)\n",
    "# Learning rate scheduling\n",
    "learning_rate_schedule = keras.optimizers.schedules.ExponentialDecay(\n",
    "    initial_learning_rate=0.001, decay_steps=1000, decay_rate=0.92\n",
    ")\n",
    "optimizer = keras.optimizers.Adam()\n",
    "\n",
    "model.compile(optimizer=optimizer, loss=loss_fn, metrics=[perplexity])"
   ]
  },
  {
   "cell_type": "code",
   "execution_count": 62,
   "id": "c41100f4",
   "metadata": {},
   "outputs": [
    {
     "name": "stdout",
     "output_type": "stream",
     "text": [
      "Model: \"model_3\"\n",
      "_________________________________________________________________\n",
      " Layer (type)                Output Shape              Param #   \n",
      "=================================================================\n",
      " input_4 (InputLayer)        [(None, None)]            0         \n",
      "                                                                 \n",
      " emb (TokenAndPositionEmbedd  (None, None, 256)        1345536   \n",
      " ing)                                                            \n",
      "                                                                 \n",
      " transformer-1 (TransformerD  (None, None, 256)        1315072   \n",
      " ecoder)                                                         \n",
      "                                                                 \n",
      " transformer-2 (TransformerD  (None, None, 256)        1315072   \n",
      " ecoder)                                                         \n",
      "                                                                 \n",
      " transformer-3 (TransformerD  (None, None, 256)        1315072   \n",
      " ecoder)                                                         \n",
      "                                                                 \n",
      " dense (Dense)               (None, None, 4765)        1224605   \n",
      "                                                                 \n",
      "=================================================================\n",
      "Total params: 6,515,357\n",
      "Trainable params: 6,515,357\n",
      "Non-trainable params: 0\n",
      "_________________________________________________________________\n"
     ]
    }
   ],
   "source": [
    "model.summary()"
   ]
  },
  {
   "cell_type": "code",
   "execution_count": 63,
   "id": "a9abfa62",
   "metadata": {},
   "outputs": [],
   "source": [
    "model.set_weights(np.load('data/v3/models/checkpoint-25-V5.npy', allow_pickle=True))"
   ]
  },
  {
   "cell_type": "code",
   "execution_count": 64,
   "id": "df63280e",
   "metadata": {},
   "outputs": [
    {
     "data": {
      "text/plain": [
       "<tf.Tensor: shape=(1, 256), dtype=int32, numpy=\n",
       "array([[2, 4, 0, 0, 0, 0, 0, 0, 0, 0, 0, 0, 0, 0, 0, 0, 0, 0, 0, 0, 0, 0,\n",
       "        0, 0, 0, 0, 0, 0, 0, 0, 0, 0, 0, 0, 0, 0, 0, 0, 0, 0, 0, 0, 0, 0,\n",
       "        0, 0, 0, 0, 0, 0, 0, 0, 0, 0, 0, 0, 0, 0, 0, 0, 0, 0, 0, 0, 0, 0,\n",
       "        0, 0, 0, 0, 0, 0, 0, 0, 0, 0, 0, 0, 0, 0, 0, 0, 0, 0, 0, 0, 0, 0,\n",
       "        0, 0, 0, 0, 0, 0, 0, 0, 0, 0, 0, 0, 0, 0, 0, 0, 0, 0, 0, 0, 0, 0,\n",
       "        0, 0, 0, 0, 0, 0, 0, 0, 0, 0, 0, 0, 0, 0, 0, 0, 0, 0, 0, 0, 0, 0,\n",
       "        0, 0, 0, 0, 0, 0, 0, 0, 0, 0, 0, 0, 0, 0, 0, 0, 0, 0, 0, 0, 0, 0,\n",
       "        0, 0, 0, 0, 0, 0, 0, 0, 0, 0, 0, 0, 0, 0, 0, 0, 0, 0, 0, 0, 0, 0,\n",
       "        0, 0, 0, 0, 0, 0, 0, 0, 0, 0, 0, 0, 0, 0, 0, 0, 0, 0, 0, 0, 0, 0,\n",
       "        0, 0, 0, 0, 0, 0, 0, 0, 0, 0, 0, 0, 0, 0, 0, 0, 0, 0, 0, 0, 0, 0,\n",
       "        0, 0, 0, 0, 0, 0, 0, 0, 0, 0, 0, 0, 0, 0, 0, 0, 0, 0, 0, 0, 0, 0,\n",
       "        0, 0, 0, 0, 0, 0, 0, 0, 0, 0, 0, 0, 0, 0]])>"
      ]
     },
     "execution_count": 64,
     "metadata": {},
     "output_type": "execute_result"
    }
   ],
   "source": [
    "prompt_tokens = start_packer(tokenizer([\"$\"]))\n",
    "prompt_tokens"
   ]
  },
  {
   "cell_type": "code",
   "execution_count": 65,
   "id": "bbcac518",
   "metadata": {},
   "outputs": [],
   "source": [
    "def nxt(prompt, cache, index):\n",
    "    logits = model(prompt)[:, index - 1, :]\n",
    "    numpy_tensor = logits.numpy()\n",
    "#     numpy_tensor[0][0] /= 1.5\n",
    "    tensor_res = tf.convert_to_tensor(numpy_tensor)\n",
    "    # Ignore hidden states for now; only needed for contrastive search.\n",
    "    hidden_states = None\n",
    "    return tensor_res, hidden_states, cache"
   ]
  },
  {
   "cell_type": "code",
   "execution_count": 66,
   "id": "ede1b6be",
   "metadata": {},
   "outputs": [],
   "source": [
    "sampler = keras_nlp.samplers.TopPSampler(0.80)"
   ]
  },
  {
   "cell_type": "code",
   "execution_count": 67,
   "id": "3f5a571a",
   "metadata": {},
   "outputs": [
    {
     "name": "stdout",
     "output_type": "stream",
     "text": [
      "[BOS] \n",
      " за от сега, ти за тази нощ. \n",
      " ти си онази дето ужас, а си ужас. .. \n",
      " не искам да си до мен, \n",
      " да си тръгнеш цяла нощ и ден, \n",
      " да не знам, че ти си любовта, \n",
      " пак не си до мен. . \n",
      " знам не знам какво ти е така. \n",
      " знам, че за мене ти си любовта. \n",
      " знам, че ти си любовта. \n",
      " знам, че искаш ме, \n",
      " няма да не е лъжа. . \n",
      " но във всеки ден, лъжа няма вече. . \n",
      " знам, че ти си любовта, \n",
      " но във мен не можем да бъдем пак ни сами. \n",
      " знам, че с мене ти си любовта, \n",
      " че след ден, ще я кръсти, \n",
      " но да си до мен. \n",
      " аз избрах да бъда безсънието нощем. \n",
      " зная, че ти си любовта, \n",
      " не \n"
     ]
    }
   ],
   "source": [
    "output_tokens = sampler(\n",
    "    next=nxt,\n",
    "    prompt=prompt_tokens,\n",
    "    index=1,\n",
    ")\n",
    "decoded_output = tokenizer.detokenize(output_tokens).numpy()\n",
    "\n",
    "# Convert the numpy array of bytes to a byte string\n",
    "byte_string = b\"\".join(decoded_output)\n",
    "\n",
    "# Decode the byte string to a Unicode string\n",
    "decoded_string = byte_string.decode(\"utf-8\")\n",
    "lines = decoded_string.split(\"[PAD]\")[0].split(\"nl\")\n",
    "for line in lines:\n",
    "    print(line.replace(' , ', ', ').replace(' . ', '. ').replace(' ! ','! ').replace(' ? ', '? ').replace(' - ', '-'))"
   ]
  },
  {
   "cell_type": "code",
   "execution_count": null,
   "id": "7c61b0c1",
   "metadata": {},
   "outputs": [],
   "source": []
  },
  {
   "cell_type": "code",
   "execution_count": null,
   "id": "7f3e5dbf",
   "metadata": {},
   "outputs": [],
   "source": []
  },
  {
   "cell_type": "code",
   "execution_count": null,
   "id": "297fe8c6",
   "metadata": {},
   "outputs": [],
   "source": []
  },
  {
   "cell_type": "code",
   "execution_count": null,
   "id": "0e0ea967",
   "metadata": {},
   "outputs": [],
   "source": []
  }
 ],
 "metadata": {
  "kernelspec": {
   "display_name": "Python 3 (ipykernel)",
   "language": "python",
   "name": "python3"
  },
  "language_info": {
   "codemirror_mode": {
    "name": "ipython",
    "version": 3
   },
   "file_extension": ".py",
   "mimetype": "text/x-python",
   "name": "python",
   "nbconvert_exporter": "python",
   "pygments_lexer": "ipython3",
   "version": "3.9.13"
  }
 },
 "nbformat": 4,
 "nbformat_minor": 5
}
